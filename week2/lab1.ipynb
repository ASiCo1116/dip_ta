{
 "cells": [
  {
   "cell_type": "markdown",
   "id": "1ab5fb93-bc5d-48ac-9cc2-84568abf24c5",
   "metadata": {},
   "source": [
    "# Histogram\n",
    "### (1) Show the 'camera' with its histogram.\n",
    "### (2) Show the 'cat' with its histogram.\n",
    "### (3) Read 'leaves.jpg' and show its histogram."
   ]
  },
  {
   "cell_type": "code",
   "execution_count": null,
   "id": "50dcd875-3e96-4f3f-9b4f-8665fe2f862b",
   "metadata": {},
   "outputs": [],
   "source": [
    "import skdemo\n",
    "import matplotlib.pyplot as plt\n",
    "from skimage import data, img_as_float, io\n",
    "\n",
    "camera = data.camera()\n",
    "skdemo.imshow_with_histogram(camera)"
   ]
  },
  {
   "cell_type": "code",
   "execution_count": null,
   "id": "0003fad2-a913-4a1c-addd-d8542a2f0e5e",
   "metadata": {},
   "outputs": [],
   "source": [
    "cat = data.chelsea()\n",
    "skdemo.imshow_with_histogram(...)"
   ]
  },
  {
   "cell_type": "code",
   "execution_count": null,
   "id": "b5157230-998d-4ce8-b216-f060de5f249f",
   "metadata": {},
   "outputs": [],
   "source": [
    "...\n",
    "skdemo.imshow_with_histogram(leaves)"
   ]
  },
  {
   "cell_type": "markdown",
   "id": "94ada0d1-df08-4f38-870a-1af3e9429995",
   "metadata": {},
   "source": [
    "### (4) Increase the contrast of 'camera' by rescale its histogram.\n",
    "### (5) Equzlize the histogram of 'camera'."
   ]
  },
  {
   "cell_type": "code",
   "execution_count": null,
   "id": "c26102f7-a358-43ab-8b36-56dddae797d0",
   "metadata": {},
   "outputs": [],
   "source": [
    "from skimage import exposure\n",
    "\n",
    "high_contrast = exposure.rescale_intensity(camera, in_range=(10, 180))\n",
    "skdemo.imshow_with_histogram(...)"
   ]
  },
  {
   "cell_type": "code",
   "execution_count": null,
   "id": "dd676de0-a402-4d60-83c9-09d4d996ca30",
   "metadata": {},
   "outputs": [],
   "source": [
    "equalized = exposure.equalize_hist(camera)\n",
    "skdemo.imshow_with_histogram(...)"
   ]
  },
  {
   "cell_type": "markdown",
   "id": "9bea8d19-c37e-43ec-a2fd-60f43eaf16cf",
   "metadata": {},
   "source": [
    "# Segmentation\n",
    "### (1) Use Otsu's method to segment 'rice.jpg'.\n",
    "### (2) Use local threshold to segment 'rice.jpg'."
   ]
  },
  {
   "cell_type": "code",
   "execution_count": null,
   "id": "5df94bfd-8faa-4d6a-a217-19d1783d67c9",
   "metadata": {},
   "outputs": [],
   "source": [
    "from skimage import filters\n",
    "\n",
    "rice = io.imread(...)\n",
    "plt.imshow(rice)\n",
    "plt.show()\n",
    "otsu_thresh = filters.threshold_otsu(...)\n",
    "print(otsu_thresh)"
   ]
  },
  {
   "cell_type": "code",
   "execution_count": null,
   "id": "741e7ece-1c65-4c2d-971e-125a8214f648",
   "metadata": {},
   "outputs": [],
   "source": [
    "otsu_binary = ...\n",
    "plt.imshow(otsu_binary, cmap='gray')\n",
    "plt.show()"
   ]
  },
  {
   "cell_type": "code",
   "execution_count": null,
   "id": "14c21d93-0662-40eb-b3b1-7860dd170f01",
   "metadata": {},
   "outputs": [],
   "source": [
    "block_size = 55\n",
    "local_thresh = filters.threshold_local(rice, block_size, offset=-20)\n",
    "print(local_thresh)\n",
    "local_binary = ...\n",
    "plt.imshow(local_binary, cmap='gray')\n",
    "plt.show()"
   ]
  },
  {
   "cell_type": "markdown",
   "id": "595c5295-8de9-4b7f-808a-6e387548e9b3",
   "metadata": {},
   "source": [
    "### (3) Apply background estimation to segment 'rice.jpg'.\n",
    "### (4) Use color space coversion to segment 'mm.jpg'."
   ]
  },
  {
   "cell_type": "code",
   "execution_count": null,
   "id": "0ec429e0-6c2e-4217-aa84-9e8f4370c46a",
   "metadata": {},
   "outputs": [],
   "source": [
    "from skimage import morphology, img_as_float\n",
    "img = img_as_float(rice)\n",
    "bg = morphology.erosion(img, morphology.square(...))\n",
    "bg = filters.gaussian(bg, sigma=...)\n",
    "result = img - bg\n",
    "\n",
    "plt.figure(figsize=(10,8))\n",
    "plt.subplot(1, 3, 1)\n",
    "plt.imshow(img, cmap=\"gray\")\n",
    "plt.subplot(1, 3, 2)\n",
    "plt.imshow(bg, cmap=\"gray\")\n",
    "plt.subplot(1, 3, 3)\n",
    "plt.imshow(result, cmap=\"gray\")\n",
    "plt.show()\n",
    "\n",
    "front = result > 0.2\n",
    "plt.imshow(front, cmap=\"gray\")\n"
   ]
  },
  {
   "cell_type": "code",
   "execution_count": null,
   "id": "4d8cf3a7-61df-4f95-98f2-325a6cd85a67",
   "metadata": {},
   "outputs": [],
   "source": [
    "import numpy as np\n",
    "from skimage.color import rgb2hsv\n",
    "\n",
    "balloon = io.imread(...)\n",
    "width = balloon.shape[1]\n",
    "height = balloon.shape[0]\n",
    "img = np.zeros((height,width))\n",
    "\n",
    "balloon_hsv = rgb2hsv(...)\n",
    "img[np.logical_and(balloon_hsv[:, :, 0]>..., balloon_hsv[:, :, 0]<...)] = 255\n",
    "\n",
    "plt.imshow(img)\n",
    "plt.show()"
   ]
  }
 ],
 "metadata": {
  "kernelspec": {
   "display_name": "Python 3",
   "language": "python",
   "name": "python3"
  },
  "language_info": {
   "codemirror_mode": {
    "name": "ipython",
    "version": 3
   },
   "file_extension": ".py",
   "mimetype": "text/x-python",
   "name": "python",
   "nbconvert_exporter": "python",
   "pygments_lexer": "ipython3",
   "version": "3.8.10"
  }
 },
 "nbformat": 4,
 "nbformat_minor": 5
}
