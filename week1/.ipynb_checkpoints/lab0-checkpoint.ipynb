{
 "cells": [
  {
   "cell_type": "code",
   "execution_count": null,
   "id": "181a8c8d-d950-4462-9b13-078a6325f712",
   "metadata": {},
   "outputs": [],
   "source": [
    "from skimage import io, data, img_as_float \n",
    "import matplotlib.pyplot as plt\n",
    "import numpy as np"
   ]
  },
  {
   "cell_type": "markdown",
   "id": "87471832-61e6-42cd-98aa-313d3277741f",
   "metadata": {},
   "source": [
    "# Load an image\n",
    "### (1) Read the 'leaves.jpg' and show it in RGB and grayscale"
   ]
  },
  {
   "cell_type": "code",
   "execution_count": null,
   "id": "d8025472-fe3a-4b4c-ac24-0c648e37ab4d",
   "metadata": {},
   "outputs": [],
   "source": [
    "leaves = io.imread(...)\n",
    "gray_leaves = io.imread(..., as_gray=...)\n",
    "\n",
    "plt.imshow(...)\n",
    "plt.show()\n",
    "plt.imshow(..., cmap=...)\n",
    "plt.show()"
   ]
  },
  {
   "cell_type": "markdown",
   "id": "d57c13a8-291b-4009-bd61-39f312840623",
   "metadata": {},
   "source": [
    "# Image channels\n",
    "### (1) Show the red channel of the 'leaves.jpg'.\n",
    "### (2) Show the green channel of the 'leaves.jpg'.\n",
    "### (3) Show the blue channel of the 'leaves.jpg'."
   ]
  },
  {
   "cell_type": "code",
   "execution_count": null,
   "id": "a496b65a-f423-48f8-b3bb-4bc247a32f17",
   "metadata": {},
   "outputs": [],
   "source": [
    "plt.imshow(leaves[:,:,0], cmap='Reds')\n",
    "plt.show()\n",
    "plt.imshow(leaves[:,:,1], cmap='Greens')\n",
    "plt.show()\n",
    "plt.imshow(leaves[:,:,2], cmap='Blues')\n",
    "plt.show()"
   ]
  },
  {
   "cell_type": "markdown",
   "id": "91a58bd2-8388-4df8-9d3f-4190cf9a5d2d",
   "metadata": {},
   "source": [
    "# Image adjustment\n",
    "### (1) Increase the brightness by addition.\n",
    "### (2) Decrease the brightness by subtraction."
   ]
  },
  {
   "cell_type": "code",
   "execution_count": null,
   "id": "0ce2ae18-da4d-4e6e-afb8-851f115756a6",
   "metadata": {},
   "outputs": [],
   "source": [
    "leaves_float = ...\n",
    "\n",
    "add_leaves = leaves_float + 0.5\n",
    "plt.imshow(...)\n",
    "plt.show()\n",
    "\n",
    "sub_leaves = leaves_float - 0.5\n",
    "plt.imshow(...)\n",
    "plt.show()"
   ]
  },
  {
   "cell_type": "markdown",
   "id": "9f94eb4b-ea72-49eb-932e-91d56375877d",
   "metadata": {},
   "source": [
    "# Image subtraction\n",
    "### (1) Subtract the 'highway1.jpg' from 'highway2.jpg'.\n",
    "hint: dtype should be float"
   ]
  },
  {
   "cell_type": "code",
   "execution_count": null,
   "id": "4a51da5a-0406-44f7-94b1-078486874773",
   "metadata": {},
   "outputs": [],
   "source": [
    "highway1 = io.imread('highway1.jpg')\n",
    "highway2 = io.imread('highway2.jpg')\n",
    "\n",
    "...\n",
    "plt.imshow(highway1, cmap='gray')\n",
    "plt.show()\n",
    "\n",
    "...\n",
    "plt.imshow(highway2, cmap='gray')\n",
    "plt.show()\n",
    "\n",
    "...\n",
    "\n",
    "plt.imshow(subtraction, cmap='gray')\n",
    "plt.show()"
   ]
  },
  {
   "cell_type": "markdown",
   "id": "d0fdecaa-c822-4db1-8461-084b2911276b",
   "metadata": {},
   "source": [
    "# Image rotation\n",
    "### (1) Show 'leaves.jpg' rotated with 30 degrees counter-clockwise.\n",
    "### (2) Show 'leaves.jpg' rotated with 30 degrees clockwise."
   ]
  },
  {
   "cell_type": "code",
   "execution_count": null,
   "id": "6e38a634-3959-4b3f-afe3-d36d136ad31f",
   "metadata": {},
   "outputs": [],
   "source": [
    "from skimage import transform, data\n",
    "leaves = io.imread(..., as_gray=True)\n",
    "leaves_ccw = transform.rotate(leaves, ...)\n",
    "leaves_cw = transform.rotate(leaves, ...)\n",
    "\n",
    "plt.imshow(leaves, cmap='gray')\n",
    "plt.show()\n",
    "\n",
    "plt.imshow(leaves_ccw, cmap='gray')\n",
    "plt.show()\n",
    "\n",
    "plt.imshow(leaves_cw, cmap='gray')\n",
    "plt.show()"
   ]
  },
  {
   "cell_type": "markdown",
   "id": "baa62a33-ad2f-4f9a-9d21-4b2dd2af916a",
   "metadata": {},
   "source": [
    "# Image contrast\n",
    "### (1) Increase the constrast of 'leaves.jpg'."
   ]
  },
  {
   "cell_type": "code",
   "execution_count": null,
   "id": "b9d5bbd5-20be-4994-8325-9693cd29645a",
   "metadata": {},
   "outputs": [],
   "source": [
    "def increase_contrast(image):\n",
    "    threshold = 0.15\n",
    "    mod_image = image/image.max().copy()\n",
    "    x1, y1 = np.where(mod_image>=threshold)\n",
    "    x2, y2 = np.where(mod_image<threshold)\n",
    "    mod_image[x1, y1] = mod_image[x1, y1] + 0.3\n",
    "    mod_image[x2, y2] = mod_image[x2, y2] - 0.3\n",
    "    return mod_image\n",
    "\n",
    "leaves_gray = io.imread('leaves.jpg', as_gray=True)\n",
    "plt.imshow(leaves_gray, cmap='gray')\n",
    "plt.show()\n",
    "\n",
    "...\n",
    "plt.imshow(leaves_contrast, cmap='gray', vmin=0.0, vmax=1.0)\n",
    "plt.show()"
   ]
  },
  {
   "cell_type": "markdown",
   "id": "8642ba86-0479-4a05-9632-0a2d8f479a3d",
   "metadata": {},
   "source": [
    "# Binarization\n",
    "### (1) Binarize 'leaves.jpg' and show it."
   ]
  },
  {
   "cell_type": "code",
   "execution_count": null,
   "id": "b9773b6f-5430-4d70-a84e-785dec210129",
   "metadata": {},
   "outputs": [],
   "source": [
    "threshold = 0.45\n",
    "\n",
    "binary_leaves = leaves_gray.copy()\n",
    "binary_leaves[leaves_gray>threshold] = ...\n",
    "binary_leaves[leaves_gray<threshold] = ...\n",
    "\n",
    "plt.imshow(binary_leaves, cmap='gray')\n",
    "plt.show()"
   ]
  },
  {
   "cell_type": "markdown",
   "id": "88b9fbd2-c4cb-427a-8039-8fdd27e2ca07",
   "metadata": {},
   "source": [
    "# Save an image\n",
    "### (1) Save the subtraction result of two highway images.\n",
    "### (2) Save the binarization result of 'leaves.jpg'"
   ]
  },
  {
   "cell_type": "code",
   "execution_count": null,
   "id": "98ea9288-c4da-4fdb-8c14-925627f08192",
   "metadata": {},
   "outputs": [],
   "source": [
    "..."
   ]
  },
  {
   "cell_type": "code",
   "execution_count": null,
   "id": "c3baa14f-20ed-4347-b511-ec10d8c594b8",
   "metadata": {},
   "outputs": [],
   "source": []
  }
 ],
 "metadata": {
  "kernelspec": {
   "display_name": "Python 3",
   "language": "python",
   "name": "python3"
  },
  "language_info": {
   "codemirror_mode": {
    "name": "ipython",
    "version": 3
   },
   "file_extension": ".py",
   "mimetype": "text/x-python",
   "name": "python",
   "nbconvert_exporter": "python",
   "pygments_lexer": "ipython3",
   "version": "3.8.10"
  }
 },
 "nbformat": 4,
 "nbformat_minor": 5
}
