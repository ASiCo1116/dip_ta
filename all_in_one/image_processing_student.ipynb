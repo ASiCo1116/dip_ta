{
 "cells": [
  {
   "cell_type": "markdown",
   "id": "c60c7910-358a-4848-afac-dbd9c9d3f02e",
   "metadata": {},
   "source": [
    "# Part I"
   ]
  },
  {
   "cell_type": "markdown",
   "id": "a1dfde11-5647-4407-b3cb-d1996d154318",
   "metadata": {},
   "source": [
    "### Reading an image"
   ]
  },
  {
   "cell_type": "code",
   "execution_count": null,
   "id": "005c2eab-7793-4d8f-982b-69541849297f",
   "metadata": {},
   "outputs": [],
   "source": [
    "import numpy as np\n",
    "import matplotlib.pyplot as plt\n",
    "from skimage import io\n",
    "\n",
    "rice = io.imread('rice.jpg')\n",
    "plt.imshow(rice, cmap='gray')\n",
    "plt.show()"
   ]
  },
  {
   "cell_type": "code",
   "execution_count": null,
   "id": "7cc55883-b50f-414e-b696-d67406459254",
   "metadata": {},
   "outputs": [],
   "source": [
    "print(rice.shape) # shaap of the image\n",
    "print(rice.dtype) # data type of the image\n",
    "print(rice) # how the image looks like"
   ]
  },
  {
   "cell_type": "code",
   "execution_count": null,
   "id": "5ca7444d-99b1-4a3d-9eda-7e81805ca004",
   "metadata": {},
   "outputs": [],
   "source": [
    "mm = io.imread('mm.jpg')\n",
    "plt.imshow(mm)\n",
    "plt.show()"
   ]
  },
  {
   "cell_type": "code",
   "execution_count": null,
   "id": "13e335eb-6aaf-4bf7-960a-4fd9ba920dfd",
   "metadata": {},
   "outputs": [],
   "source": [
    "print(mm.shape)\n",
    "print(mm.dtype)\n",
    "print(mm)"
   ]
  },
  {
   "cell_type": "code",
   "execution_count": null,
   "id": "01ccc20b-7eb2-4199-8ae1-bbad275e0835",
   "metadata": {},
   "outputs": [],
   "source": [
    "mm_gray = io.imread('mm.jpg', as_gray=True) # read it in grayscale\n",
    "plt.imshow(mm_gray, cmap=plt.cm.gray) # show it in grayscale\n",
    "plt.show()"
   ]
  },
  {
   "cell_type": "code",
   "execution_count": null,
   "id": "ed3b5e2c-2246-4de4-b585-c6923242a640",
   "metadata": {},
   "outputs": [],
   "source": [
    "print(mm_gray.shape)\n",
    "print(mm_gray.dtype)\n",
    "print(mm_gray)"
   ]
  },
  {
   "cell_type": "markdown",
   "id": "038c2f7f-cc30-4ae0-bed5-d805f8ef473b",
   "metadata": {},
   "source": [
    "### Change the brightness"
   ]
  },
  {
   "cell_type": "code",
   "execution_count": null,
   "id": "0ca7af8f-db4d-402d-84ca-af5f8f080bc7",
   "metadata": {},
   "outputs": [],
   "source": [
    "rice_bright = rice + 20\n",
    "plt.imshow(rice)\n",
    "plt.show()\n",
    "plt.imshow(rice_bright)\n",
    "plt.show()\n",
    "rice_brighter = rice + 100 # what's wrong with this image\n",
    "plt.imshow(rice_brighter)\n",
    "plt.show()"
   ]
  },
  {
   "cell_type": "markdown",
   "id": "24ef1b97-5c81-4916-a966-64567df74b8b",
   "metadata": {},
   "source": [
    "### Integer can overflow !"
   ]
  },
  {
   "cell_type": "code",
   "execution_count": null,
   "id": "65b37d48-f9da-4303-b941-289fd7c66c42",
   "metadata": {},
   "outputs": [],
   "source": [
    "from skimage import img_as_float\n",
    "rice_float = img_as_float(rice) # read it in float type!\n",
    "rice_float_15 = rice_float * 1.5\n",
    "plt.imshow(rice)\n",
    "plt.show()\n",
    "plt.imshow(rice_float_15, vmax=1) # set vmax=1\n",
    "plt.show()"
   ]
  },
  {
   "cell_type": "markdown",
   "id": "b3c7ee4c-5f0b-436a-9ad2-d8724cff4469",
   "metadata": {},
   "source": [
    "### Image addition"
   ]
  },
  {
   "cell_type": "code",
   "execution_count": null,
   "id": "ca3eac23-f1b5-4cde-ba7c-8ce1dd84b5ce",
   "metadata": {},
   "outputs": [],
   "source": [
    "from skimage import data\n",
    "camera = data.camera()\n",
    "plt.imshow(camera)\n",
    "plt.show()\n",
    "grass = data.grass()\n",
    "plt.imshow(grass)\n",
    "plt.show()\n",
    "added = img_as_float(grass) + img_as_float(camera)\n",
    "plt.imshow(added)\n",
    "plt.show()"
   ]
  },
  {
   "cell_type": "markdown",
   "id": "f89a9905-cb94-4e99-8925-257568813176",
   "metadata": {},
   "source": [
    "### Histogram"
   ]
  },
  {
   "cell_type": "code",
   "execution_count": null,
   "id": "d69a2e67-31f9-4b09-afe1-2aedff0a485c",
   "metadata": {},
   "outputs": [],
   "source": [
    "import skdemo\n",
    "\n",
    "skdemo.imshow_with_histogram(rice)\n",
    "\n",
    "cat = data.cat()\n",
    "skdemo.imshow_with_histogram(cat)"
   ]
  },
  {
   "cell_type": "code",
   "execution_count": null,
   "id": "9eb3c0a5-3917-4ba0-bb64-41517d125811",
   "metadata": {},
   "outputs": [],
   "source": [
    "from skimage import exposure\n",
    "\n",
    "skdemo.imshow_with_histogram(rice)\n",
    "\n",
    "high_contrast_rice = exposure.rescale_intensity(rice, in_range=(100, 180))\n",
    "print(high_contrast_rice.min(), high_contrast_rice.max())\n",
    "skdemo.imshow_with_histogram(high_contrast_rice, vmin=0, vmax=255)\n",
    "\n",
    "low_contrast_rice = exposure.rescale_intensity(rice, out_range=(100, 180))\n",
    "print(low_contrast_rice.min(), low_contrast_rice.max())\n",
    "skdemo.imshow_with_histogram(low_contrast_rice, vmin=0, vmax=255)"
   ]
  },
  {
   "cell_type": "code",
   "execution_count": null,
   "id": "0a376e47-e010-43e5-b26b-5010f382fe08",
   "metadata": {},
   "outputs": [],
   "source": [
    "skdemo.imshow_with_histogram(rice)\n",
    "\n",
    "rice_equalized = exposure.equalize_hist(rice)\n",
    "skdemo.imshow_with_histogram(rice_equalized)"
   ]
  },
  {
   "cell_type": "code",
   "execution_count": null,
   "id": "03b73b5d-c778-4d03-be02-40c149ea283f",
   "metadata": {},
   "outputs": [],
   "source": [
    "# E1.1\n",
    "...\n",
    "\n",
    "#E1.2\n",
    "...\n",
    "\n",
    "#E1.3\n",
    "...\n",
    "\n",
    "#E1.4\n",
    "...\n",
    "\n",
    "#E1.5\n",
    "...\n",
    "\n",
    "#E1.6\n",
    "..."
   ]
  },
  {
   "cell_type": "markdown",
   "id": "65ba4cf5-e5c1-44ec-992c-6677798b84fa",
   "metadata": {},
   "source": [
    "# Part II"
   ]
  },
  {
   "cell_type": "markdown",
   "id": "df125464-84cf-48b1-906a-fec2fcfa70a1",
   "metadata": {},
   "source": [
    "### Binarization"
   ]
  },
  {
   "cell_type": "code",
   "execution_count": null,
   "id": "37d02d27-f5fa-4249-a696-fd791ec8da09",
   "metadata": {},
   "outputs": [],
   "source": [
    "rice_float = img_as_float(rice)\n",
    "rice_binarization = rice_float > 0.56\n",
    "plt.imshow(rice)\n",
    "plt.show()\n",
    "\n",
    "plt.imshow(rice_binarization)\n",
    "plt.show()"
   ]
  },
  {
   "cell_type": "markdown",
   "id": "4822f58c-7556-4418-9ee6-943e70fd0d8a",
   "metadata": {},
   "source": [
    "### Otsu's method"
   ]
  },
  {
   "cell_type": "code",
   "execution_count": null,
   "id": "2d65ff38-45c9-4fad-8a49-8af3d1e0fca5",
   "metadata": {},
   "outputs": [],
   "source": [
    "from skimage import filters\n",
    "\n",
    "otsu_thresh = filters.threshold_otsu(rice)\n",
    "print(otsu_thresh)\n",
    "otsu_binary = rice > otsu_thresh\n",
    "plt.imshow(otsu_binary)\n",
    "plt.show()"
   ]
  },
  {
   "cell_type": "markdown",
   "id": "1c931fe5-f8fe-4441-a3d9-ca4555225693",
   "metadata": {},
   "source": [
    "### Local thresholding"
   ]
  },
  {
   "cell_type": "code",
   "execution_count": null,
   "id": "799e543d-63c3-4d64-9e69-77cfa0c0f82e",
   "metadata": {},
   "outputs": [],
   "source": [
    "block_size = 55\n",
    "local_thresh = filters.threshold_local(rice, block_size, offset=-20) # what is offset?\n",
    "local_binary = rice > local_thresh\n",
    "plt.imshow(local_binary)\n",
    "plt.show()"
   ]
  },
  {
   "cell_type": "markdown",
   "id": "c22bb60e-671f-4e58-98c5-24235589b647",
   "metadata": {},
   "source": [
    "### Morphology"
   ]
  },
  {
   "cell_type": "code",
   "execution_count": null,
   "id": "032048ae-8e49-4837-b70e-c5ef4af7ea98",
   "metadata": {},
   "outputs": [],
   "source": [
    "from skimage.morphology import erosion, dilation, opening, closing, square\n",
    "\n",
    "img = img_as_float(rice)\n",
    "\n",
    "bg_erosion = erosion(img, square(7))\n",
    "plt.imshow(bg_erosion)\n",
    "plt.show()\n",
    "\n",
    "bg_dilation = dilation(img, square(7))\n",
    "plt.imshow(bg_dilation)\n",
    "plt.show()\n",
    "\n",
    "bg_opening = opening(img, square(7))\n",
    "plt.imshow(bg_opening)\n",
    "plt.show()\n",
    "\n",
    "bg_closing = closing(img, square(7))\n",
    "plt.imshow(bg_closing)\n",
    "plt.show()\n",
    "\n",
    "bg = filters.gaussian(bg_erosion, sigma=7) # How bg looks like\n",
    "plt.imshow(bg)\n",
    "plt.show()\n",
    "\n",
    "img_no_bg = img - bg\n",
    "plt.imshow(img_no_bg)\n",
    "plt.show()"
   ]
  },
  {
   "cell_type": "markdown",
   "id": "0ffd9fe2-159a-47c2-9ed6-9f2c8781657b",
   "metadata": {},
   "source": [
    "### Color space"
   ]
  },
  {
   "cell_type": "code",
   "execution_count": null,
   "id": "a41b2353-a784-45a7-a24b-8be494693d8d",
   "metadata": {},
   "outputs": [],
   "source": [
    "from skimage import color\n",
    "\n",
    "mm = io.imread('mm.jpg')\n",
    "plt.imshow(mm)\n",
    "plt.show()\n",
    "\n",
    "plt.imshow(mm[:, :, 0])\n",
    "plt.show()\n",
    "\n",
    "plt.imshow(mm[:, :, 1])\n",
    "plt.show()\n",
    "\n",
    "plt.imshow(mm[:, :, 2])\n",
    "plt.show()"
   ]
  },
  {
   "cell_type": "code",
   "execution_count": null,
   "id": "d3bbcf93-55fe-4326-8866-2bcd77dc819a",
   "metadata": {},
   "outputs": [],
   "source": [
    "img_red = mm[:, :, 0] > 0.7\n",
    "plt.imshow(img_red)\n",
    "plt.show()"
   ]
  },
  {
   "cell_type": "code",
   "execution_count": null,
   "id": "864adecd-f487-47a9-8126-cce08ce91b3b",
   "metadata": {},
   "outputs": [],
   "source": [
    "mm_hsv = color.rgb2hsv(mm)\n",
    "plt.imshow(mm_hsv)\n",
    "plt.show()\n",
    "\n",
    "plt.imshow(mm_hsv[:, :, 0])\n",
    "plt.show()\n",
    "\n",
    "plt.imshow(mm_hsv[:, :, 1])\n",
    "plt.show()\n",
    "\n",
    "plt.imshow(mm_hsv[:, :, 2])\n",
    "plt.show()"
   ]
  },
  {
   "cell_type": "code",
   "execution_count": null,
   "id": "476a8edd-b99a-47ec-aea6-380a41d7584b",
   "metadata": {},
   "outputs": [],
   "source": [
    "mm_hue = mm_hsv[:, :, 0]\n",
    "\n",
    "img = (mm_hue > 0.3) & (mm_hue < 0.35)\n",
    "plt.imshow(img)\n",
    "plt.show()\n",
    "\n",
    "cropped_green = img_as_float(mm) * np.stack((img, )*3, axis=-1)\n",
    "plt.imshow(cropped_green)\n",
    "plt.show()\n",
    "\n",
    "bg = (mm_hue > 0.112) & (mm_hue < 0.15) # background\n",
    "plt.imshow(bg)\n",
    "plt.show()\n",
    "\n",
    "img_com = 1.0 - bg # complementary\n",
    "plt.imshow(img_com)\n",
    "plt.show()\n",
    "\n",
    "cropped = (img_as_float(mm) * np.stack((img_com, )*3, axis=-1))\n",
    "\n",
    "plt.imshow(cropped)\n",
    "plt.show()"
   ]
  },
  {
   "cell_type": "code",
   "execution_count": null,
   "id": "cd57cdb0-124d-4150-bae5-185b3a6acde4",
   "metadata": {},
   "outputs": [],
   "source": [
    "#E2\n",
    "..."
   ]
  },
  {
   "cell_type": "markdown",
   "id": "ee90a56e-5364-4211-bed8-76c96d5ff87b",
   "metadata": {},
   "source": [
    "# Part III"
   ]
  },
  {
   "cell_type": "markdown",
   "id": "dabb1e67-0969-413c-8291-d235ede1ceac",
   "metadata": {},
   "source": [
    "### Counting by contour"
   ]
  },
  {
   "cell_type": "code",
   "execution_count": null,
   "id": "e1afda8e-49f7-4c5b-a55a-839a1c209e8e",
   "metadata": {},
   "outputs": [],
   "source": [
    "from skimage.measure import find_contours\n",
    "contour_image = img_as_float(local_binary.copy())\n",
    "contours = find_contours(contour_image, fully_connected='high')\n",
    "\n",
    "fig, ax = plt.subplots()\n",
    "ax.imshow(contour_image, cmap='gray')\n",
    "\n",
    "for contour in contours:\n",
    "    ax.plot(contour[:, 1], contour[:, 0], linewidth=2, color='red')\n",
    "\n",
    "print(\"Number of grains\", len(contours))\n",
    "\n",
    "ax.axis('image')\n",
    "ax.set_xticks([])\n",
    "ax.set_yticks([])\n",
    "plt.show()"
   ]
  },
  {
   "cell_type": "markdown",
   "id": "73d003d9-2f12-4887-8c62-685579b516e7",
   "metadata": {},
   "source": [
    "### Counting by circles"
   ]
  },
  {
   "cell_type": "code",
   "execution_count": null,
   "id": "7b65dbe7-d76a-44fc-bb59-a60e1c391a0c",
   "metadata": {},
   "outputs": [],
   "source": [
    "import scipy.ndimage as nd\n",
    "from skimage.draw import circle_perimeter\n",
    "from skimage.feature import canny\n",
    "from skimage.transform import hough_circle, hough_circle_peaks\n",
    "\n",
    "mm_gray = color.rgb2gray(mm)\n",
    "edges = canny(mm_gray)\n",
    "hough_radii = np.arange(15, 20)\n",
    "hough_res = hough_circle(edges, hough_radii)\n",
    "accums, cx, cy, radii = hough_circle_peaks(hough_res, hough_radii, \n",
    "                                           min_xdistance=15,\n",
    "                                           min_ydistance=15,\n",
    "                                           threshold=0.44)\n",
    "\n",
    "fig, ax = plt.subplots(ncols=3, nrows=1, figsize=(12, 6))\n",
    "\n",
    "image = mm.copy()\n",
    "blank = np.zeros((mm.shape)).astype(np.uint8)\n",
    "print(f'Number of mm: {len(radii)}')\n",
    "for center_y, center_x, radius in zip(cy, cx, radii):\n",
    "    circy, circx = circle_perimeter(center_y, center_x, radius, shape=mm.shape)\n",
    "    blank[circy, circx] = (255, 255, 255)\n",
    "    \n",
    "filled_mm = nd.morphology.binary_fill_holes(blank[:, :, 0]).astype(int)\n",
    "\n",
    "ax[0].imshow(mm)\n",
    "ax[1].imshow(blank[:, :, 0], cmap=plt.cm.gray)\n",
    "ax[2].imshow(filled_mm, cmap=plt.cm.gray)\n",
    "plt.show()"
   ]
  },
  {
   "cell_type": "code",
   "execution_count": null,
   "id": "6a76c68f-b627-4b84-999a-22f6d6811a10",
   "metadata": {},
   "outputs": [],
   "source": [
    "#E3\n",
    "..."
   ]
  },
  {
   "cell_type": "code",
   "execution_count": null,
   "id": "1a606976-0c46-48ac-9340-e8f60aa80233",
   "metadata": {},
   "outputs": [],
   "source": []
  }
 ],
 "metadata": {
  "kernelspec": {
   "display_name": "Python 3",
   "language": "python",
   "name": "python3"
  },
  "language_info": {
   "codemirror_mode": {
    "name": "ipython",
    "version": 3
   },
   "file_extension": ".py",
   "mimetype": "text/x-python",
   "name": "python",
   "nbconvert_exporter": "python",
   "pygments_lexer": "ipython3",
   "version": "3.8.10"
  }
 },
 "nbformat": 4,
 "nbformat_minor": 5
}
